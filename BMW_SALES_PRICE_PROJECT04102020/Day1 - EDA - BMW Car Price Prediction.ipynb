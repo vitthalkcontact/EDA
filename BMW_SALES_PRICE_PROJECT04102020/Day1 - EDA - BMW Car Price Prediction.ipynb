{
 "cells": [
  {
   "cell_type": "markdown",
   "metadata": {},
   "source": [
    "## Week 2"
   ]
  },
  {
   "cell_type": "code",
   "execution_count": 21,
   "metadata": {},
   "outputs": [],
   "source": [
    "import pandas as pd\n",
    "import numpy as np\n",
    "import seaborn as sns\n",
    "import matplotlib.pyplot as plt\n",
    "import warnings\n",
    "\n",
    "pd.set_option('display.max_columns', None)\n",
    "warnings.filterwarnings('ignore')"
   ]
  },
  {
   "cell_type": "markdown",
   "metadata": {},
   "source": [
    "### problem statement: car price prediction \n",
    "- brand value\n",
    "- model type \n",
    "- misel\n",
    "- no. of seats available\n",
    "- leg space\n",
    "- engine power/CC\n",
    "- fuel options (categorical)\n",
    "- color of the car (categorical)\n",
    "- supply and demand - seasonality \n",
    "- IsLocking (boolean)\n",
    "- maintenance_cost (categorical)\n",
    "- insurance_price (categorical)\n",
    "- automated/manual (categorical)\n",
    "- diff between registration to purchase\n",
    "- competition\n",
    "\n",
    "\n",
    "-- life of the car\n",
    "- distance travelled\n",
    "- warrenty_CArd\n",
    "- service_history\n",
    "- insurance\n",
    "- condition (categorical)"
   ]
  },
  {
   "cell_type": "code",
   "execution_count": 22,
   "metadata": {},
   "outputs": [
    {
     "data": {
      "text/plain": [
       "(4843, 18)"
      ]
     },
     "execution_count": 22,
     "metadata": {},
     "output_type": "execute_result"
    }
   ],
   "source": [
    "df = pd.read_csv('bmw_pricing_challenge.csv')\n",
    "df.shape"
   ]
  },
  {
   "cell_type": "code",
   "execution_count": 23,
   "metadata": {},
   "outputs": [
    {
     "data": {
      "text/html": [
       "<div>\n",
       "<style scoped>\n",
       "    .dataframe tbody tr th:only-of-type {\n",
       "        vertical-align: middle;\n",
       "    }\n",
       "\n",
       "    .dataframe tbody tr th {\n",
       "        vertical-align: top;\n",
       "    }\n",
       "\n",
       "    .dataframe thead th {\n",
       "        text-align: right;\n",
       "    }\n",
       "</style>\n",
       "<table border=\"1\" class=\"dataframe\">\n",
       "  <thead>\n",
       "    <tr style=\"text-align: right;\">\n",
       "      <th></th>\n",
       "      <th>maker_key</th>\n",
       "      <th>model_key</th>\n",
       "      <th>mileage</th>\n",
       "      <th>engine_power</th>\n",
       "      <th>registration_date</th>\n",
       "      <th>fuel</th>\n",
       "      <th>paint_color</th>\n",
       "      <th>car_type</th>\n",
       "      <th>feature_1</th>\n",
       "      <th>feature_2</th>\n",
       "      <th>feature_3</th>\n",
       "      <th>feature_4</th>\n",
       "      <th>feature_5</th>\n",
       "      <th>feature_6</th>\n",
       "      <th>feature_7</th>\n",
       "      <th>feature_8</th>\n",
       "      <th>price</th>\n",
       "      <th>sold_at</th>\n",
       "    </tr>\n",
       "  </thead>\n",
       "  <tbody>\n",
       "    <tr>\n",
       "      <td>0</td>\n",
       "      <td>BMW</td>\n",
       "      <td>118</td>\n",
       "      <td>140411</td>\n",
       "      <td>100</td>\n",
       "      <td>2012-02-01</td>\n",
       "      <td>diesel</td>\n",
       "      <td>black</td>\n",
       "      <td>convertible</td>\n",
       "      <td>True</td>\n",
       "      <td>True</td>\n",
       "      <td>False</td>\n",
       "      <td>False</td>\n",
       "      <td>True</td>\n",
       "      <td>True</td>\n",
       "      <td>True</td>\n",
       "      <td>False</td>\n",
       "      <td>11300</td>\n",
       "      <td>2018-01-01</td>\n",
       "    </tr>\n",
       "    <tr>\n",
       "      <td>1</td>\n",
       "      <td>BMW</td>\n",
       "      <td>M4</td>\n",
       "      <td>13929</td>\n",
       "      <td>317</td>\n",
       "      <td>2016-04-01</td>\n",
       "      <td>petrol</td>\n",
       "      <td>grey</td>\n",
       "      <td>convertible</td>\n",
       "      <td>True</td>\n",
       "      <td>True</td>\n",
       "      <td>False</td>\n",
       "      <td>False</td>\n",
       "      <td>False</td>\n",
       "      <td>True</td>\n",
       "      <td>True</td>\n",
       "      <td>True</td>\n",
       "      <td>69700</td>\n",
       "      <td>2018-02-01</td>\n",
       "    </tr>\n",
       "    <tr>\n",
       "      <td>2</td>\n",
       "      <td>BMW</td>\n",
       "      <td>320</td>\n",
       "      <td>183297</td>\n",
       "      <td>120</td>\n",
       "      <td>2012-04-01</td>\n",
       "      <td>diesel</td>\n",
       "      <td>white</td>\n",
       "      <td>convertible</td>\n",
       "      <td>False</td>\n",
       "      <td>False</td>\n",
       "      <td>False</td>\n",
       "      <td>False</td>\n",
       "      <td>True</td>\n",
       "      <td>False</td>\n",
       "      <td>True</td>\n",
       "      <td>False</td>\n",
       "      <td>10200</td>\n",
       "      <td>2018-02-01</td>\n",
       "    </tr>\n",
       "    <tr>\n",
       "      <td>3</td>\n",
       "      <td>BMW</td>\n",
       "      <td>420</td>\n",
       "      <td>128035</td>\n",
       "      <td>135</td>\n",
       "      <td>2014-07-01</td>\n",
       "      <td>diesel</td>\n",
       "      <td>red</td>\n",
       "      <td>convertible</td>\n",
       "      <td>True</td>\n",
       "      <td>True</td>\n",
       "      <td>False</td>\n",
       "      <td>False</td>\n",
       "      <td>True</td>\n",
       "      <td>True</td>\n",
       "      <td>True</td>\n",
       "      <td>True</td>\n",
       "      <td>25100</td>\n",
       "      <td>2018-02-01</td>\n",
       "    </tr>\n",
       "    <tr>\n",
       "      <td>4</td>\n",
       "      <td>BMW</td>\n",
       "      <td>425</td>\n",
       "      <td>97097</td>\n",
       "      <td>160</td>\n",
       "      <td>2014-12-01</td>\n",
       "      <td>diesel</td>\n",
       "      <td>silver</td>\n",
       "      <td>convertible</td>\n",
       "      <td>True</td>\n",
       "      <td>True</td>\n",
       "      <td>False</td>\n",
       "      <td>False</td>\n",
       "      <td>False</td>\n",
       "      <td>True</td>\n",
       "      <td>True</td>\n",
       "      <td>True</td>\n",
       "      <td>33400</td>\n",
       "      <td>2018-04-01</td>\n",
       "    </tr>\n",
       "  </tbody>\n",
       "</table>\n",
       "</div>"
      ],
      "text/plain": [
       "  maker_key model_key  mileage  engine_power registration_date    fuel  \\\n",
       "0       BMW       118   140411           100        2012-02-01  diesel   \n",
       "1       BMW        M4    13929           317        2016-04-01  petrol   \n",
       "2       BMW       320   183297           120        2012-04-01  diesel   \n",
       "3       BMW       420   128035           135        2014-07-01  diesel   \n",
       "4       BMW       425    97097           160        2014-12-01  diesel   \n",
       "\n",
       "  paint_color     car_type  feature_1  feature_2  feature_3  feature_4  \\\n",
       "0       black  convertible       True       True      False      False   \n",
       "1        grey  convertible       True       True      False      False   \n",
       "2       white  convertible      False      False      False      False   \n",
       "3         red  convertible       True       True      False      False   \n",
       "4      silver  convertible       True       True      False      False   \n",
       "\n",
       "   feature_5  feature_6  feature_7  feature_8  price     sold_at  \n",
       "0       True       True       True      False  11300  2018-01-01  \n",
       "1      False       True       True       True  69700  2018-02-01  \n",
       "2       True      False       True      False  10200  2018-02-01  \n",
       "3       True       True       True       True  25100  2018-02-01  \n",
       "4      False       True       True       True  33400  2018-04-01  "
      ]
     },
     "execution_count": 23,
     "metadata": {},
     "output_type": "execute_result"
    }
   ],
   "source": [
    "df.head()"
   ]
  },
  {
   "cell_type": "code",
   "execution_count": 24,
   "metadata": {},
   "outputs": [
    {
     "data": {
      "text/plain": [
       "Index(['maker_key', 'model_key', 'mileage', 'engine_power',\n",
       "       'registration_date', 'fuel', 'paint_color', 'car_type', 'feature_1',\n",
       "       'feature_2', 'feature_3', 'feature_4', 'feature_5', 'feature_6',\n",
       "       'feature_7', 'feature_8', 'price', 'sold_at'],\n",
       "      dtype='object')"
      ]
     },
     "execution_count": 24,
     "metadata": {},
     "output_type": "execute_result"
    }
   ],
   "source": [
    "df.columns"
   ]
  },
  {
   "cell_type": "markdown",
   "metadata": {},
   "source": [
    "### EDA\n",
    "- univariate analysis\n",
    "        - missing values\n",
    "        - outlier treatment\n",
    "        - encoding\n",
    "        - zero variance check\n",
    "- bivariate analysis\n",
    "         - correlation\n",
    "         - scatterplot\n",
    "         - outliers"
   ]
  },
  {
   "cell_type": "code",
   "execution_count": 25,
   "metadata": {},
   "outputs": [
    {
     "name": "stdout",
     "output_type": "stream",
     "text": [
      "<class 'pandas.core.frame.DataFrame'>\n",
      "RangeIndex: 4843 entries, 0 to 4842\n",
      "Data columns (total 18 columns):\n",
      "maker_key            4843 non-null object\n",
      "model_key            4843 non-null object\n",
      "mileage              4843 non-null int64\n",
      "engine_power         4843 non-null int64\n",
      "registration_date    4843 non-null object\n",
      "fuel                 4843 non-null object\n",
      "paint_color          4843 non-null object\n",
      "car_type             4843 non-null object\n",
      "feature_1            4843 non-null bool\n",
      "feature_2            4843 non-null bool\n",
      "feature_3            4843 non-null bool\n",
      "feature_4            4843 non-null bool\n",
      "feature_5            4843 non-null bool\n",
      "feature_6            4843 non-null bool\n",
      "feature_7            4843 non-null bool\n",
      "feature_8            4843 non-null bool\n",
      "price                4843 non-null int64\n",
      "sold_at              4843 non-null object\n",
      "dtypes: bool(8), int64(3), object(7)\n",
      "memory usage: 416.3+ KB\n"
     ]
    }
   ],
   "source": [
    "df.info()"
   ]
  },
  {
   "cell_type": "code",
   "execution_count": 26,
   "metadata": {},
   "outputs": [
    {
     "data": {
      "text/plain": [
       "maker_key            0\n",
       "model_key            0\n",
       "mileage              0\n",
       "engine_power         0\n",
       "registration_date    0\n",
       "fuel                 0\n",
       "paint_color          0\n",
       "car_type             0\n",
       "feature_1            0\n",
       "feature_2            0\n",
       "feature_3            0\n",
       "feature_4            0\n",
       "feature_5            0\n",
       "feature_6            0\n",
       "feature_7            0\n",
       "feature_8            0\n",
       "price                0\n",
       "sold_at              0\n",
       "dtype: int64"
      ]
     },
     "execution_count": 26,
     "metadata": {},
     "output_type": "execute_result"
    }
   ],
   "source": [
    "### missing values handling \n",
    "df.isnull().sum()"
   ]
  },
  {
   "cell_type": "markdown",
   "metadata": {},
   "source": [
    "    #### if missing values, what should we do?\n",
    "    1) column - wise mising values \n",
    "     - if a column has 80% values missing?  -  drop\n",
    "     - if a column has 50% values missing (numerical)? - if filling -> mean, median, predictive model, filling with random values between 2 standard deviation\n",
    "    10 features + Nth columne\n",
    "    (100 rows -> missing50 rows(N))\n",
    "     M1 -> data (10 columns + 50 rows) and target Nth colume (50 rows)\n",
    "\n",
    "     - if a column has 50% values missing (categorical)? - if filling -> mode, \n",
    "        price  \n",
    "        color (R-40, B - 30, other_c-30)\n",
    "\n",
    "    2) row - wise missing values\n",
    "     - \n",
    "        C1   C2 C3   target    (assume dataset is imbalanced)\n",
    "    0    NA   <v1>         0\n",
    "    1                      1\n",
    "    2         <v3>     NA  0 \n",
    "\n",
    "    95(1) and 5(0)\n",
    "    0     0\n",
    "    1     0\n",
    "    2     1\n",
    "    3     0\n",
    "    4     1\n",
    "\n",
    "    ---- sampling approach : - up-sampling and down-sampling (SMOTE)"
   ]
  },
  {
   "cell_type": "markdown",
   "metadata": {},
   "source": [
    "### Explore\n",
    "    relate categorical features with target\n",
    "     - # 1) If any relation between model_key and mileage/ price?\n",
    "    explore if any pattern exist between price and time"
   ]
  },
  {
   "cell_type": "code",
   "execution_count": 27,
   "metadata": {},
   "outputs": [
    {
     "data": {
      "text/html": [
       "<div>\n",
       "<style scoped>\n",
       "    .dataframe tbody tr th:only-of-type {\n",
       "        vertical-align: middle;\n",
       "    }\n",
       "\n",
       "    .dataframe tbody tr th {\n",
       "        vertical-align: top;\n",
       "    }\n",
       "\n",
       "    .dataframe thead th {\n",
       "        text-align: right;\n",
       "    }\n",
       "</style>\n",
       "<table border=\"1\" class=\"dataframe\">\n",
       "  <thead>\n",
       "    <tr style=\"text-align: right;\">\n",
       "      <th></th>\n",
       "      <th>maker_key</th>\n",
       "      <th>model_key</th>\n",
       "      <th>registration_date</th>\n",
       "      <th>fuel</th>\n",
       "      <th>paint_color</th>\n",
       "      <th>car_type</th>\n",
       "      <th>sold_at</th>\n",
       "    </tr>\n",
       "  </thead>\n",
       "  <tbody>\n",
       "    <tr>\n",
       "      <td>0</td>\n",
       "      <td>BMW</td>\n",
       "      <td>118</td>\n",
       "      <td>2012-02-01</td>\n",
       "      <td>diesel</td>\n",
       "      <td>black</td>\n",
       "      <td>convertible</td>\n",
       "      <td>2018-01-01</td>\n",
       "    </tr>\n",
       "    <tr>\n",
       "      <td>1</td>\n",
       "      <td>BMW</td>\n",
       "      <td>M4</td>\n",
       "      <td>2016-04-01</td>\n",
       "      <td>petrol</td>\n",
       "      <td>grey</td>\n",
       "      <td>convertible</td>\n",
       "      <td>2018-02-01</td>\n",
       "    </tr>\n",
       "    <tr>\n",
       "      <td>2</td>\n",
       "      <td>BMW</td>\n",
       "      <td>320</td>\n",
       "      <td>2012-04-01</td>\n",
       "      <td>diesel</td>\n",
       "      <td>white</td>\n",
       "      <td>convertible</td>\n",
       "      <td>2018-02-01</td>\n",
       "    </tr>\n",
       "    <tr>\n",
       "      <td>3</td>\n",
       "      <td>BMW</td>\n",
       "      <td>420</td>\n",
       "      <td>2014-07-01</td>\n",
       "      <td>diesel</td>\n",
       "      <td>red</td>\n",
       "      <td>convertible</td>\n",
       "      <td>2018-02-01</td>\n",
       "    </tr>\n",
       "    <tr>\n",
       "      <td>4</td>\n",
       "      <td>BMW</td>\n",
       "      <td>425</td>\n",
       "      <td>2014-12-01</td>\n",
       "      <td>diesel</td>\n",
       "      <td>silver</td>\n",
       "      <td>convertible</td>\n",
       "      <td>2018-04-01</td>\n",
       "    </tr>\n",
       "  </tbody>\n",
       "</table>\n",
       "</div>"
      ],
      "text/plain": [
       "  maker_key model_key registration_date    fuel paint_color     car_type  \\\n",
       "0       BMW       118        2012-02-01  diesel       black  convertible   \n",
       "1       BMW        M4        2016-04-01  petrol        grey  convertible   \n",
       "2       BMW       320        2012-04-01  diesel       white  convertible   \n",
       "3       BMW       420        2014-07-01  diesel         red  convertible   \n",
       "4       BMW       425        2014-12-01  diesel      silver  convertible   \n",
       "\n",
       "      sold_at  \n",
       "0  2018-01-01  \n",
       "1  2018-02-01  \n",
       "2  2018-02-01  \n",
       "3  2018-02-01  \n",
       "4  2018-04-01  "
      ]
     },
     "execution_count": 27,
     "metadata": {},
     "output_type": "execute_result"
    }
   ],
   "source": [
    "### Encoding - label encoding and OHE\n",
    "categorical_f = df.select_dtypes('object').columns\n",
    "df[categorical_f].head()"
   ]
  },
  {
   "cell_type": "code",
   "execution_count": 28,
   "metadata": {},
   "outputs": [
    {
     "data": {
      "text/plain": [
       "Index(['maker_key', 'model_key', 'registration_date', 'fuel', 'paint_color',\n",
       "       'car_type', 'sold_at'],\n",
       "      dtype='object')"
      ]
     },
     "execution_count": 28,
     "metadata": {},
     "output_type": "execute_result"
    }
   ],
   "source": [
    "df.select_dtypes(np.object).columns"
   ]
  },
  {
   "cell_type": "code",
   "execution_count": 29,
   "metadata": {},
   "outputs": [
    {
     "name": "stdout",
     "output_type": "stream",
     "text": [
      "maker_key => ['BMW'] 1\n",
      "model_key => ['118' 'M4' '320' '420' '425' '335' '325' 'Z4' '120' '220' '650' '135'\n",
      " '218' '318' '430' 'M3' '330' '225' 'M235' '316' '435' '640'\n",
      " '640 Gran Coupé' '435 Gran Coupé' 'i8' '630' '430 Gran Coupé' '635' '520'\n",
      " '525' '530' '535' '320 Gran Turismo' '518' '116' '328' '523' 'X3' 'M550'\n",
      " '528' '325 Gran Turismo' '125' '318 Gran Turismo' '420 Gran Coupé' 'i3'\n",
      " '114' '520 Gran Turismo' '530 Gran Turismo' 'M135' '418 Gran Coupé'\n",
      " '330 Gran Turismo' '335 Gran Turismo' '730' '123' '535 Gran Turismo'\n",
      " '740' '750' 'ActiveHybrid 5' '735' 'M5' 'X5' 'X1' 'X4' 'X6' 'X6 M' 'X5 M'\n",
      " 'X5 M50' '218 Active Tourer' '218 Gran Tourer' '216' '220 Active Tourer'\n",
      " '216 Gran Tourer' '216 Active Tourer' '225 Active Tourer'\n",
      " '214 Gran Tourer'] 75\n",
      "fuel => ['diesel' 'petrol' 'hybrid_petrol' 'electro'] 4\n",
      "paint_color => ['black' 'grey' 'white' 'red' 'silver' 'blue' 'orange' 'beige' 'brown'\n",
      " 'green'] 10\n",
      "car_type => ['convertible' 'coupe' 'estate' 'hatchback' 'sedan' 'subcompact' 'suv'\n",
      " 'van'] 8\n"
     ]
    }
   ],
   "source": [
    "for each in ['maker_key', 'model_key', 'fuel', 'paint_color',\n",
    "       'car_type']:\n",
    "     print(each, \"=>\",df[each].unique(), df[each].nunique())"
   ]
  },
  {
   "cell_type": "code",
   "execution_count": 30,
   "metadata": {},
   "outputs": [],
   "source": [
    "#  1 2 3 4 5...10\n",
    "#  1 0 0 0 0 0 0 \n",
    "#  0 1 0 0 0 0 0\n",
    "\n",
    "# 1) If any relation between model_key and mileage/ price?"
   ]
  },
  {
   "cell_type": "code",
   "execution_count": 31,
   "metadata": {},
   "outputs": [
    {
     "data": {
      "text/plain": [
       "<matplotlib.axes._subplots.AxesSubplot at 0x1f10e22e488>"
      ]
     },
     "execution_count": 31,
     "metadata": {},
     "output_type": "execute_result"
    },
    {
     "data": {
      "image/png": "[encoded data removed]",
      "text/plain": [
       "<Figure size 432x288 with 1 Axes>"
      ]
     },
     "metadata": {
      "needs_background": "light"
     },
     "output_type": "display_data"
    }
   ],
   "source": [
    "sns.countplot(df.paint_color)\n",
    "\n",
    "# note: as per data black color has  huge demand than remaining colors, does black color cars have highest price range?"
   ]
  },
  {
   "cell_type": "code",
   "execution_count": 32,
   "metadata": {},
   "outputs": [
    {
     "data": {
      "text/html": [
       "<div>\n",
       "<style scoped>\n",
       "    .dataframe tbody tr th:only-of-type {\n",
       "        vertical-align: middle;\n",
       "    }\n",
       "\n",
       "    .dataframe tbody tr th {\n",
       "        vertical-align: top;\n",
       "    }\n",
       "\n",
       "    .dataframe thead th {\n",
       "        text-align: right;\n",
       "    }\n",
       "</style>\n",
       "<table border=\"1\" class=\"dataframe\">\n",
       "  <thead>\n",
       "    <tr style=\"text-align: right;\">\n",
       "      <th></th>\n",
       "      <th>paint_color</th>\n",
       "      <th>mileage</th>\n",
       "      <th>price</th>\n",
       "    </tr>\n",
       "  </thead>\n",
       "  <tbody>\n",
       "    <tr>\n",
       "      <td>6</td>\n",
       "      <td>orange</td>\n",
       "      <td>88756.333333</td>\n",
       "      <td>18866.666667</td>\n",
       "    </tr>\n",
       "    <tr>\n",
       "      <td>7</td>\n",
       "      <td>red</td>\n",
       "      <td>125155.615385</td>\n",
       "      <td>16500.000000</td>\n",
       "    </tr>\n",
       "    <tr>\n",
       "      <td>0</td>\n",
       "      <td>beige</td>\n",
       "      <td>128870.707317</td>\n",
       "      <td>15817.073171</td>\n",
       "    </tr>\n",
       "    <tr>\n",
       "      <td>9</td>\n",
       "      <td>white</td>\n",
       "      <td>129582.401487</td>\n",
       "      <td>17328.438662</td>\n",
       "    </tr>\n",
       "    <tr>\n",
       "      <td>3</td>\n",
       "      <td>brown</td>\n",
       "      <td>135704.771261</td>\n",
       "      <td>15367.741935</td>\n",
       "    </tr>\n",
       "    <tr>\n",
       "      <td>2</td>\n",
       "      <td>blue</td>\n",
       "      <td>138387.687324</td>\n",
       "      <td>15114.929577</td>\n",
       "    </tr>\n",
       "    <tr>\n",
       "      <td>5</td>\n",
       "      <td>grey</td>\n",
       "      <td>143757.417872</td>\n",
       "      <td>15595.744681</td>\n",
       "    </tr>\n",
       "    <tr>\n",
       "      <td>1</td>\n",
       "      <td>black</td>\n",
       "      <td>144289.800367</td>\n",
       "      <td>16173.851806</td>\n",
       "    </tr>\n",
       "    <tr>\n",
       "      <td>8</td>\n",
       "      <td>silver</td>\n",
       "      <td>146053.112462</td>\n",
       "      <td>14816.109422</td>\n",
       "    </tr>\n",
       "    <tr>\n",
       "      <td>4</td>\n",
       "      <td>green</td>\n",
       "      <td>195606.000000</td>\n",
       "      <td>7200.000000</td>\n",
       "    </tr>\n",
       "  </tbody>\n",
       "</table>\n",
       "</div>"
      ],
      "text/plain": [
       "  paint_color        mileage         price\n",
       "6      orange   88756.333333  18866.666667\n",
       "7         red  125155.615385  16500.000000\n",
       "0       beige  128870.707317  15817.073171\n",
       "9       white  129582.401487  17328.438662\n",
       "3       brown  135704.771261  15367.741935\n",
       "2        blue  138387.687324  15114.929577\n",
       "5        grey  143757.417872  15595.744681\n",
       "1       black  144289.800367  16173.851806\n",
       "8      silver  146053.112462  14816.109422\n",
       "4       green  195606.000000   7200.000000"
      ]
     },
     "execution_count": 32,
     "metadata": {},
     "output_type": "execute_result"
    }
   ],
   "source": [
    "df.groupby('paint_color')['mileage','price'].mean().reset_index().sort_values('mileage')\n",
    "## try to find out if any relationship between color of the car and mileage in real world?"
   ]
  },
  {
   "cell_type": "code",
   "execution_count": 33,
   "metadata": {
    "scrolled": true
   },
   "outputs": [
    {
     "name": "stdout",
     "output_type": "stream",
     "text": [
      "black             mileage  engine_power         price\n",
      "count  1.633000e+03   1633.000000   1633.000000\n",
      "mean   1.442898e+05    131.008573  16173.851806\n",
      "std    6.310074e+04     38.979223   8874.971468\n",
      "min   -6.400000e+01     25.000000    100.000000\n",
      "25%    1.064040e+05    105.000000  10900.000000\n",
      "50%    1.454710e+05    120.000000  14500.000000\n",
      "75%    1.776710e+05    140.000000  19300.000000\n",
      "max    1.000376e+06    317.000000  75000.000000\n",
      "grey              mileage  engine_power          price\n",
      "count    1175.000000   1175.000000    1175.000000\n",
      "mean   143757.417872    129.268936   15595.744681\n",
      "std     60480.526550     38.198944    9622.369714\n",
      "min      5578.000000     70.000000     100.000000\n",
      "25%    104144.500000    100.000000   10800.000000\n",
      "50%    140631.000000    120.000000   14000.000000\n",
      "75%    179102.500000    135.000000   17900.000000\n",
      "max    477571.000000    317.000000  142800.000000\n",
      "white              mileage  engine_power         price\n",
      "count     538.000000    538.000000    538.000000\n",
      "mean   129582.401487    129.866171  17328.438662\n",
      "std     54075.025044     41.165297   9276.029348\n",
      "min      2399.000000      0.000000    100.000000\n",
      "25%     93148.250000    105.000000  12000.000000\n",
      "50%    132538.500000    132.500000  14900.000000\n",
      "75%    164923.250000    135.000000  20000.000000\n",
      "max    375686.000000    412.000000  66600.000000\n",
      "red              mileage  engine_power         price\n",
      "count      52.000000     52.000000     52.000000\n",
      "mean   125155.615385    126.711538  16500.000000\n",
      "std     53481.297890     53.016585  11956.670138\n",
      "min      2970.000000     70.000000   2400.000000\n",
      "25%     95761.000000    100.000000  11175.000000\n",
      "50%    128047.000000    120.000000  13200.000000\n",
      "75%    162061.750000    135.000000  17500.000000\n",
      "max    208638.000000    423.000000  82400.000000\n",
      "silver              mileage  engine_power         price\n",
      "count     329.000000    329.000000    329.000000\n",
      "mean   146053.112462    130.790274  14816.109422\n",
      "std     61714.883339     40.163785   8547.447312\n",
      "min      4530.000000     66.000000    100.000000\n",
      "25%    105764.000000    105.000000  10100.000000\n",
      "50%    145215.000000    120.000000  14400.000000\n",
      "75%    184507.000000    135.000000  18800.000000\n",
      "max    439060.000000    309.000000  73100.000000\n",
      "blue              mileage  engine_power          price\n",
      "count     710.000000    710.000000     710.000000\n",
      "mean   138387.687324    127.573239   15114.929577\n",
      "std     61792.656132     39.663139   10282.722836\n",
      "min       476.000000     70.000000     100.000000\n",
      "25%     96489.750000    100.000000   10100.000000\n",
      "50%    137580.500000    120.000000   13250.000000\n",
      "75%    172167.000000    135.000000   17600.000000\n",
      "max    484615.000000    317.000000  178500.000000\n",
      "orange              mileage  engine_power         price\n",
      "count       6.000000      6.000000      6.000000\n",
      "mean    88756.333333    141.666667  18866.666667\n",
      "std     60408.694820     38.815804   6261.203292\n",
      "min     34767.000000     85.000000  13100.000000\n",
      "25%     44487.250000    123.750000  13775.000000\n",
      "50%     63191.500000    137.500000  17400.000000\n",
      "75%    135601.000000    170.000000  22675.000000\n",
      "max    173398.000000    190.000000  28300.000000\n",
      "beige              mileage  engine_power         price\n",
      "count      41.000000     41.000000     41.000000\n",
      "mean   128870.707317    123.658537  15817.073171\n",
      "std     53792.861753     33.745822   5818.500771\n",
      "min     24175.000000     85.000000   7700.000000\n",
      "25%     95874.000000    100.000000  12400.000000\n",
      "50%    125505.000000    120.000000  13700.000000\n",
      "75%    163601.000000    135.000000  17000.000000\n",
      "max    273532.000000    230.000000  32100.000000\n",
      "brown              mileage  engine_power         price\n",
      "count     341.000000    341.000000    341.000000\n",
      "mean   135704.771261    119.381232  15367.741935\n",
      "std     43571.678767     32.182405   6909.661855\n",
      "min     12541.000000     70.000000    800.000000\n",
      "25%    105304.000000    100.000000  11200.000000\n",
      "50%    141775.000000    120.000000  13900.000000\n",
      "75%    166676.000000    135.000000  17400.000000\n",
      "max    299054.000000    230.000000  46500.000000\n",
      "green              mileage  engine_power        price\n",
      "count      18.000000     18.000000     18.00000\n",
      "mean   195606.000000    120.500000   7200.00000\n",
      "std     73746.916106     35.660573   5546.16985\n",
      "min     63008.000000     77.000000    700.00000\n",
      "25%    153881.750000    100.000000   2625.00000\n",
      "50%    186939.000000    110.000000   6950.00000\n",
      "75%    240504.500000    127.500000   8850.00000\n",
      "max    359648.000000    210.000000  20500.00000\n"
     ]
    }
   ],
   "source": [
    "for each in df.paint_color.unique():\n",
    "    print(each, df[df.paint_color==each].describe())\n",
    "\n",
    "# note: orange color  has hghes minimum price but frequency is least. Try to look for relationship between car color and per unit car price  "
   ]
  },
  {
   "cell_type": "code",
   "execution_count": 35,
   "metadata": {},
   "outputs": [
    {
     "data": {
      "text/html": [
       "<div>\n",
       "<style scoped>\n",
       "    .dataframe tbody tr th:only-of-type {\n",
       "        vertical-align: middle;\n",
       "    }\n",
       "\n",
       "    .dataframe tbody tr th {\n",
       "        vertical-align: top;\n",
       "    }\n",
       "\n",
       "    .dataframe thead th {\n",
       "        text-align: right;\n",
       "    }\n",
       "</style>\n",
       "<table border=\"1\" class=\"dataframe\">\n",
       "  <thead>\n",
       "    <tr style=\"text-align: right;\">\n",
       "      <th></th>\n",
       "      <th>feature_1</th>\n",
       "      <th>feature_2</th>\n",
       "      <th>feature_3</th>\n",
       "      <th>feature_4</th>\n",
       "      <th>feature_5</th>\n",
       "      <th>feature_6</th>\n",
       "      <th>feature_7</th>\n",
       "      <th>feature_8</th>\n",
       "    </tr>\n",
       "  </thead>\n",
       "  <tbody>\n",
       "    <tr>\n",
       "      <td>0</td>\n",
       "      <td>True</td>\n",
       "      <td>True</td>\n",
       "      <td>False</td>\n",
       "      <td>False</td>\n",
       "      <td>True</td>\n",
       "      <td>True</td>\n",
       "      <td>True</td>\n",
       "      <td>False</td>\n",
       "    </tr>\n",
       "    <tr>\n",
       "      <td>1</td>\n",
       "      <td>True</td>\n",
       "      <td>True</td>\n",
       "      <td>False</td>\n",
       "      <td>False</td>\n",
       "      <td>False</td>\n",
       "      <td>True</td>\n",
       "      <td>True</td>\n",
       "      <td>True</td>\n",
       "    </tr>\n",
       "    <tr>\n",
       "      <td>2</td>\n",
       "      <td>False</td>\n",
       "      <td>False</td>\n",
       "      <td>False</td>\n",
       "      <td>False</td>\n",
       "      <td>True</td>\n",
       "      <td>False</td>\n",
       "      <td>True</td>\n",
       "      <td>False</td>\n",
       "    </tr>\n",
       "    <tr>\n",
       "      <td>3</td>\n",
       "      <td>True</td>\n",
       "      <td>True</td>\n",
       "      <td>False</td>\n",
       "      <td>False</td>\n",
       "      <td>True</td>\n",
       "      <td>True</td>\n",
       "      <td>True</td>\n",
       "      <td>True</td>\n",
       "    </tr>\n",
       "    <tr>\n",
       "      <td>4</td>\n",
       "      <td>True</td>\n",
       "      <td>True</td>\n",
       "      <td>False</td>\n",
       "      <td>False</td>\n",
       "      <td>False</td>\n",
       "      <td>True</td>\n",
       "      <td>True</td>\n",
       "      <td>True</td>\n",
       "    </tr>\n",
       "  </tbody>\n",
       "</table>\n",
       "</div>"
      ],
      "text/plain": [
       "   feature_1  feature_2  feature_3  feature_4  feature_5  feature_6  \\\n",
       "0       True       True      False      False       True       True   \n",
       "1       True       True      False      False      False       True   \n",
       "2      False      False      False      False       True      False   \n",
       "3       True       True      False      False       True       True   \n",
       "4       True       True      False      False      False       True   \n",
       "\n",
       "   feature_7  feature_8  \n",
       "0       True      False  \n",
       "1       True       True  \n",
       "2       True      False  \n",
       "3       True       True  \n",
       "4       True       True  "
      ]
     },
     "execution_count": 35,
     "metadata": {},
     "output_type": "execute_result"
    }
   ],
   "source": [
    "## converting boolean features into binary  \n",
    "boolean_f = df.select_dtypes('bool').columns\n",
    "df[boolean_f].head()"
   ]
  },
  {
   "cell_type": "code",
   "execution_count": 36,
   "metadata": {},
   "outputs": [
    {
     "name": "stdout",
     "output_type": "stream",
     "text": [
      "feature_1 [ True False]\n",
      "feature_2 [ True False]\n",
      "feature_3 [False  True]\n",
      "feature_4 [False  True]\n",
      "feature_5 [ True False]\n",
      "feature_6 [ True False]\n",
      "feature_7 [ True False]\n",
      "feature_8 [False  True]\n"
     ]
    }
   ],
   "source": [
    "for each in boolean_f:\n",
    "     print(each, df[each].unique())"
   ]
  },
  {
   "cell_type": "code",
   "execution_count": 37,
   "metadata": {},
   "outputs": [],
   "source": [
    "for col in boolean_f:\n",
    "    df[col] = df[col].apply(lambda x: 1 if x== True else 0)"
   ]
  },
  {
   "cell_type": "code",
   "execution_count": 38,
   "metadata": {},
   "outputs": [
    {
     "data": {
      "text/html": [
       "<div>\n",
       "<style scoped>\n",
       "    .dataframe tbody tr th:only-of-type {\n",
       "        vertical-align: middle;\n",
       "    }\n",
       "\n",
       "    .dataframe tbody tr th {\n",
       "        vertical-align: top;\n",
       "    }\n",
       "\n",
       "    .dataframe thead th {\n",
       "        text-align: right;\n",
       "    }\n",
       "</style>\n",
       "<table border=\"1\" class=\"dataframe\">\n",
       "  <thead>\n",
       "    <tr style=\"text-align: right;\">\n",
       "      <th></th>\n",
       "      <th>feature_1</th>\n",
       "      <th>feature_2</th>\n",
       "      <th>feature_3</th>\n",
       "      <th>feature_4</th>\n",
       "      <th>feature_5</th>\n",
       "      <th>feature_6</th>\n",
       "      <th>feature_7</th>\n",
       "      <th>feature_8</th>\n",
       "    </tr>\n",
       "  </thead>\n",
       "  <tbody>\n",
       "    <tr>\n",
       "      <td>0</td>\n",
       "      <td>1</td>\n",
       "      <td>1</td>\n",
       "      <td>0</td>\n",
       "      <td>0</td>\n",
       "      <td>1</td>\n",
       "      <td>1</td>\n",
       "      <td>1</td>\n",
       "      <td>0</td>\n",
       "    </tr>\n",
       "    <tr>\n",
       "      <td>1</td>\n",
       "      <td>1</td>\n",
       "      <td>1</td>\n",
       "      <td>0</td>\n",
       "      <td>0</td>\n",
       "      <td>0</td>\n",
       "      <td>1</td>\n",
       "      <td>1</td>\n",
       "      <td>1</td>\n",
       "    </tr>\n",
       "    <tr>\n",
       "      <td>2</td>\n",
       "      <td>0</td>\n",
       "      <td>0</td>\n",
       "      <td>0</td>\n",
       "      <td>0</td>\n",
       "      <td>1</td>\n",
       "      <td>0</td>\n",
       "      <td>1</td>\n",
       "      <td>0</td>\n",
       "    </tr>\n",
       "    <tr>\n",
       "      <td>3</td>\n",
       "      <td>1</td>\n",
       "      <td>1</td>\n",
       "      <td>0</td>\n",
       "      <td>0</td>\n",
       "      <td>1</td>\n",
       "      <td>1</td>\n",
       "      <td>1</td>\n",
       "      <td>1</td>\n",
       "    </tr>\n",
       "    <tr>\n",
       "      <td>4</td>\n",
       "      <td>1</td>\n",
       "      <td>1</td>\n",
       "      <td>0</td>\n",
       "      <td>0</td>\n",
       "      <td>0</td>\n",
       "      <td>1</td>\n",
       "      <td>1</td>\n",
       "      <td>1</td>\n",
       "    </tr>\n",
       "  </tbody>\n",
       "</table>\n",
       "</div>"
      ],
      "text/plain": [
       "   feature_1  feature_2  feature_3  feature_4  feature_5  feature_6  \\\n",
       "0          1          1          0          0          1          1   \n",
       "1          1          1          0          0          0          1   \n",
       "2          0          0          0          0          1          0   \n",
       "3          1          1          0          0          1          1   \n",
       "4          1          1          0          0          0          1   \n",
       "\n",
       "   feature_7  feature_8  \n",
       "0          1          0  \n",
       "1          1          1  \n",
       "2          1          0  \n",
       "3          1          1  \n",
       "4          1          1  "
      ]
     },
     "execution_count": 38,
     "metadata": {},
     "output_type": "execute_result"
    }
   ],
   "source": [
    "df[boolean_f].head()"
   ]
  },
  {
   "cell_type": "code",
   "execution_count": 39,
   "metadata": {},
   "outputs": [
    {
     "data": {
      "text/html": [
       "<div>\n",
       "<style scoped>\n",
       "    .dataframe tbody tr th:only-of-type {\n",
       "        vertical-align: middle;\n",
       "    }\n",
       "\n",
       "    .dataframe tbody tr th {\n",
       "        vertical-align: top;\n",
       "    }\n",
       "\n",
       "    .dataframe thead th {\n",
       "        text-align: right;\n",
       "    }\n",
       "</style>\n",
       "<table border=\"1\" class=\"dataframe\">\n",
       "  <thead>\n",
       "    <tr style=\"text-align: right;\">\n",
       "      <th></th>\n",
       "      <th>maker_key</th>\n",
       "      <th>model_key</th>\n",
       "      <th>mileage</th>\n",
       "      <th>engine_power</th>\n",
       "      <th>registration_date</th>\n",
       "      <th>fuel</th>\n",
       "      <th>paint_color</th>\n",
       "      <th>car_type</th>\n",
       "      <th>feature_1</th>\n",
       "      <th>feature_2</th>\n",
       "      <th>feature_3</th>\n",
       "      <th>feature_4</th>\n",
       "      <th>feature_5</th>\n",
       "      <th>feature_6</th>\n",
       "      <th>feature_7</th>\n",
       "      <th>feature_8</th>\n",
       "      <th>price</th>\n",
       "      <th>sold_at</th>\n",
       "    </tr>\n",
       "  </thead>\n",
       "  <tbody>\n",
       "    <tr>\n",
       "      <td>0</td>\n",
       "      <td>BMW</td>\n",
       "      <td>118</td>\n",
       "      <td>140411</td>\n",
       "      <td>100</td>\n",
       "      <td>2012-02-01</td>\n",
       "      <td>diesel</td>\n",
       "      <td>black</td>\n",
       "      <td>convertible</td>\n",
       "      <td>1</td>\n",
       "      <td>1</td>\n",
       "      <td>0</td>\n",
       "      <td>0</td>\n",
       "      <td>1</td>\n",
       "      <td>1</td>\n",
       "      <td>1</td>\n",
       "      <td>0</td>\n",
       "      <td>11300</td>\n",
       "      <td>2018-01-01</td>\n",
       "    </tr>\n",
       "    <tr>\n",
       "      <td>1</td>\n",
       "      <td>BMW</td>\n",
       "      <td>M4</td>\n",
       "      <td>13929</td>\n",
       "      <td>317</td>\n",
       "      <td>2016-04-01</td>\n",
       "      <td>petrol</td>\n",
       "      <td>grey</td>\n",
       "      <td>convertible</td>\n",
       "      <td>1</td>\n",
       "      <td>1</td>\n",
       "      <td>0</td>\n",
       "      <td>0</td>\n",
       "      <td>0</td>\n",
       "      <td>1</td>\n",
       "      <td>1</td>\n",
       "      <td>1</td>\n",
       "      <td>69700</td>\n",
       "      <td>2018-02-01</td>\n",
       "    </tr>\n",
       "    <tr>\n",
       "      <td>2</td>\n",
       "      <td>BMW</td>\n",
       "      <td>320</td>\n",
       "      <td>183297</td>\n",
       "      <td>120</td>\n",
       "      <td>2012-04-01</td>\n",
       "      <td>diesel</td>\n",
       "      <td>white</td>\n",
       "      <td>convertible</td>\n",
       "      <td>0</td>\n",
       "      <td>0</td>\n",
       "      <td>0</td>\n",
       "      <td>0</td>\n",
       "      <td>1</td>\n",
       "      <td>0</td>\n",
       "      <td>1</td>\n",
       "      <td>0</td>\n",
       "      <td>10200</td>\n",
       "      <td>2018-02-01</td>\n",
       "    </tr>\n",
       "    <tr>\n",
       "      <td>3</td>\n",
       "      <td>BMW</td>\n",
       "      <td>420</td>\n",
       "      <td>128035</td>\n",
       "      <td>135</td>\n",
       "      <td>2014-07-01</td>\n",
       "      <td>diesel</td>\n",
       "      <td>red</td>\n",
       "      <td>convertible</td>\n",
       "      <td>1</td>\n",
       "      <td>1</td>\n",
       "      <td>0</td>\n",
       "      <td>0</td>\n",
       "      <td>1</td>\n",
       "      <td>1</td>\n",
       "      <td>1</td>\n",
       "      <td>1</td>\n",
       "      <td>25100</td>\n",
       "      <td>2018-02-01</td>\n",
       "    </tr>\n",
       "    <tr>\n",
       "      <td>4</td>\n",
       "      <td>BMW</td>\n",
       "      <td>425</td>\n",
       "      <td>97097</td>\n",
       "      <td>160</td>\n",
       "      <td>2014-12-01</td>\n",
       "      <td>diesel</td>\n",
       "      <td>silver</td>\n",
       "      <td>convertible</td>\n",
       "      <td>1</td>\n",
       "      <td>1</td>\n",
       "      <td>0</td>\n",
       "      <td>0</td>\n",
       "      <td>0</td>\n",
       "      <td>1</td>\n",
       "      <td>1</td>\n",
       "      <td>1</td>\n",
       "      <td>33400</td>\n",
       "      <td>2018-04-01</td>\n",
       "    </tr>\n",
       "  </tbody>\n",
       "</table>\n",
       "</div>"
      ],
      "text/plain": [
       "  maker_key model_key  mileage  engine_power registration_date    fuel  \\\n",
       "0       BMW       118   140411           100        2012-02-01  diesel   \n",
       "1       BMW        M4    13929           317        2016-04-01  petrol   \n",
       "2       BMW       320   183297           120        2012-04-01  diesel   \n",
       "3       BMW       420   128035           135        2014-07-01  diesel   \n",
       "4       BMW       425    97097           160        2014-12-01  diesel   \n",
       "\n",
       "  paint_color     car_type  feature_1  feature_2  feature_3  feature_4  \\\n",
       "0       black  convertible          1          1          0          0   \n",
       "1        grey  convertible          1          1          0          0   \n",
       "2       white  convertible          0          0          0          0   \n",
       "3         red  convertible          1          1          0          0   \n",
       "4      silver  convertible          1          1          0          0   \n",
       "\n",
       "   feature_5  feature_6  feature_7  feature_8  price     sold_at  \n",
       "0          1          1          1          0  11300  2018-01-01  \n",
       "1          0          1          1          1  69700  2018-02-01  \n",
       "2          1          0          1          0  10200  2018-02-01  \n",
       "3          1          1          1          1  25100  2018-02-01  \n",
       "4          0          1          1          1  33400  2018-04-01  "
      ]
     },
     "execution_count": 39,
     "metadata": {},
     "output_type": "execute_result"
    }
   ],
   "source": [
    "df.head()"
   ]
  },
  {
   "cell_type": "markdown",
   "metadata": {},
   "source": [
    "### Price pattern w.r.t. time analysis"
   ]
  },
  {
   "cell_type": "code",
   "execution_count": 40,
   "metadata": {},
   "outputs": [],
   "source": [
    "## converting time columns as time type\n",
    "df.registration_date = pd.to_datetime(df.registration_date)\n",
    "df.sold_at = pd.to_datetime(df.sold_at)"
   ]
  },
  {
   "cell_type": "code",
   "execution_count": 41,
   "metadata": {},
   "outputs": [],
   "source": [
    "###  Exacting time components from time columns\n",
    "df['reg_year'] = df.registration_date.dt.year\n",
    "df['reg_month'] = df.registration_date.dt.month\n",
    "df['reg_weekday'] = df.registration_date.dt.weekday\n",
    "df['reg_weekday_yr'] = df.registration_date.dt.weekofyear\n",
    "\n",
    "df['sold_year'] = df.sold_at.dt.year\n",
    "df['sold_month'] = df.sold_at.dt.month\n",
    "df['sold_weekday'] = df.sold_at.dt.weekday\n",
    "df['sold_weekday_yr'] = df.sold_at.dt.weekofyear\n",
    "\n",
    "df['diff_reg_sold'] = df.sold_at - df.registration_date\n",
    "df.diff_reg_sold = df.diff_reg_sold.apply(lambda x: str(x).split()[0])\n",
    "\n",
    "# year difference between sold year and registration year\n",
    "df['year_diff']  = df.sold_year - df.reg_year "
   ]
  },
  {
   "cell_type": "code",
   "execution_count": 42,
   "metadata": {},
   "outputs": [
    {
     "data": {
      "text/plain": [
       "Text(0, 0.5, 'Price')"
      ]
     },
     "execution_count": 42,
     "metadata": {},
     "output_type": "execute_result"
    },
    {
     "data": {
      "image/png": "[encoded data removed]",
      "text/plain": [
       "<Figure size 432x288 with 1 Axes>"
      ]
     },
     "metadata": {
      "needs_background": "light"
     },
     "output_type": "display_data"
    }
   ],
   "source": [
    "plt.scatter(df.engine_power, df.price)\n",
    "plt.xlabel('Mileage')\n",
    "plt.ylabel('Price')\n",
    "# note: as mileage increasing price range is also increasing"
   ]
  },
  {
   "cell_type": "markdown",
   "metadata": {},
   "source": [
    "### assignment: plot relationship between price range and mileage"
   ]
  },
  {
   "cell_type": "code",
   "execution_count": 43,
   "metadata": {},
   "outputs": [
    {
     "data": {
      "text/plain": [
       "Text(0, 0.5, 'Price of the car')"
      ]
     },
     "execution_count": 43,
     "metadata": {},
     "output_type": "execute_result"
    },
    {
     "data": {
      "image/png": "[encoded data removed]",
      "text/plain": [
       "<Figure size 1440x504 with 2 Axes>"
      ]
     },
     "metadata": {
      "needs_background": "light"
     },
     "output_type": "display_data"
    }
   ],
   "source": [
    "fig, ax = plt.subplots(1,2, figsize = (20,7))\n",
    "ax[0].scatter(df['year_diff'] .astype('object'), df.price)\n",
    "# hypothesis: as the car grows older, actual worth will decrease\n",
    "plt.xlabel('Year difference between sold and registration year')\n",
    "plt.ylabel('Price of the car')\n",
    "\n",
    "x = df.groupby('year_diff')['price'].mean().reset_index()\n",
    "ax[1].plot(x['year_diff'], x.price)\n",
    "# hypothesis: as the car grows older, actual worth will decrease\n",
    "plt.xlabel('Year difference between sold and registration year')\n",
    "plt.ylabel('Price of the car')\n",
    "# validate the hypothesis"
   ]
  },
  {
   "cell_type": "code",
   "execution_count": 44,
   "metadata": {},
   "outputs": [
    {
     "data": {
      "text/plain": [
       "Text(0, 0.5, 'Price of the car')"
      ]
     },
     "execution_count": 44,
     "metadata": {},
     "output_type": "execute_result"
    },
    {
     "data": {
      "image/png": "[encoded data removed]",
      "text/plain": [
       "<Figure size 1440x504 with 2 Axes>"
      ]
     },
     "metadata": {
      "needs_background": "light"
     },
     "output_type": "display_data"
    }
   ],
   "source": [
    "fig, ax = plt.subplots(1,2, figsize = (20,7))\n",
    "ax[0].scatter(df['diff_reg_sold'] .astype('object'), df.price)\n",
    "# hypothesis: as the car grows older, actual worth will decrease\n",
    "plt.xlabel('Days difference between sold and registration year')\n",
    "plt.ylabel('Price of the car')\n",
    "\n",
    "x = df.groupby('diff_reg_sold')['price'].mean().reset_index()\n",
    "ax[1].plot(x['diff_reg_sold'], x.price)\n",
    "# hypothesis: as the car grows older, actual worth will decrease\n",
    "plt.xlabel('Days difference between sold and registration year')\n",
    "plt.ylabel('Price of the car')\n",
    "# validate the hypothesis"
   ]
  },
  {
   "cell_type": "code",
   "execution_count": null,
   "metadata": {},
   "outputs": [
    {
     "data": {
      "text/plain": [
       "Text(0, 0.5, 'Price of the car')"
      ]
     },
     "execution_count": 45,
     "metadata": {},
     "output_type": "execute_result"
    }
   ],
   "source": [
    "fig, ax = plt.subplots(2,2, figsize = (20,10))\n",
    "sns.scatterplot(df.reg_month, df.price, ax = ax[0,0])\n",
    "plt.xlabel('Registration Month')\n",
    "plt.ylabel('Price of the car')\n",
    "\n",
    "\n",
    "sns.scatterplot(df.reg_weekday, df.price, ax = ax[1,0], color = 'green')\n",
    "plt.xlabel('Registration Weekdays')\n",
    "plt.ylabel('Price of the car')\n",
    "\n",
    "\n",
    "sns.scatterplot(df.sold_weekday, df.price, ax = ax[0,1], color = 'c')\n",
    "plt.xlabel('Sold Weekdays')\n",
    "plt.ylabel('Price of the car')\n",
    "\n",
    "sns.scatterplot(df.sold_month, df.price, ax = ax[1,1], color = 'm')\n",
    "plt.xlabel('Sold Months')\n",
    "plt.ylabel('Price of the car')\n",
    "# note: looking for seasonality impact on price, however, second hand cars price do not seems to have seasonality impact"
   ]
  },
  {
   "cell_type": "code",
   "execution_count": null,
   "metadata": {},
   "outputs": [],
   "source": [
    "fig, ax = plt.subplots(2,2, figsize = (20,10))\n",
    "x = df.groupby('reg_month')['price'].mean().reset_index()\n",
    "ax[0,0].plot(x.reg_month, x.price)\n",
    "plt.xlabel('Registration Month')\n",
    "plt.ylabel('Price of the car')\n",
    "\n",
    "x = df.groupby('reg_weekday')['price'].mean().reset_index()\n",
    "ax[1,0].plot(x.reg_weekday, x.price, color = 'green')\n",
    "plt.xlabel('Registration Weekdays')\n",
    "plt.ylabel('Price of the car')\n",
    "\n",
    "x = df.groupby('sold_weekday')['price'].mean().reset_index()\n",
    "ax[0,1].plot(x.sold_weekday, x.price, color = 'c')\n",
    "plt.xlabel('Sold Weekdays')\n",
    "plt.ylabel('Price of the car')\n",
    "\n",
    "x = df.groupby('sold_month')['price'].mean().reset_index()\n",
    "ax[1,1].plot(x.sold_month, x.price,color = 'm')\n",
    "plt.xlabel('Sold Months')\n",
    "plt.ylabel('Price of the car')\n",
    "# note: looking for seasonality impact on price, however, second hand cars price do not seems to have seasonality impact"
   ]
  },
  {
   "cell_type": "code",
   "execution_count": null,
   "metadata": {},
   "outputs": [],
   "source": []
  },
  {
   "cell_type": "code",
   "execution_count": null,
   "metadata": {},
   "outputs": [],
   "source": []
  }
 ],
 "metadata": {
  "kernelspec": {
   "display_name": "Python 3",
   "language": "python",
   "name": "python3"
  },
  "language_info": {
   "codemirror_mode": {
    "name": "ipython",
    "version": 3
   },
   "file_extension": ".py",
   "mimetype": "text/x-python",
   "name": "python",
   "nbconvert_exporter": "python",
   "pygments_lexer": "ipython3",
   "version": "3.7.4"
  }
 },
 "nbformat": 4,
 "nbformat_minor": 4
}
